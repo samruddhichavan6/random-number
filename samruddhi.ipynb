{
 "cells": [
  {
   "cell_type": "code",
   "execution_count": 23,
   "id": "d15808a7",
   "metadata": {},
   "outputs": [
    {
     "name": "stdout",
     "output_type": "stream",
     "text": [
      "20\n",
      "50\n",
      "40\n"
     ]
    }
   ],
   "source": [
    "import time\n",
    "def rand_val(x,y):\n",
    "    sub=y-x\n",
    "    random=int(time.time()*1000) \n",
    "    random %=sub\n",
    "    random+=x\n",
    "    return random\n",
    "x=int(input())\n",
    "y=int(input())\n",
    "print(rand_val(x,y))"
   ]
  },
  {
   "cell_type": "code",
   "execution_count": 24,
   "id": "4304d2e2",
   "metadata": {},
   "outputs": [
    {
     "data": {
      "text/plain": [
       "<BarContainer object of 1 artists>"
      ]
     },
     "execution_count": 24,
     "metadata": {},
     "output_type": "execute_result"
    },
    {
     "data": {
      "image/png": "[encoded data removed]",
      "text/plain": [
       "<Figure size 432x288 with 1 Axes>"
      ]
     },
     "metadata": {
      "needs_background": "light"
     },
     "output_type": "display_data"
    }
   ],
   "source": [
    "\n",
    "from matplotlib import pyplot\n",
    "pyplot.bar(x, y)"
   ]
  },
  {
   "cell_type": "code",
   "execution_count": 25,
   "id": "a082f251",
   "metadata": {},
   "outputs": [],
   "source": [
    "def pi_estimator(samples):\n",
    "    points_inside_circle= 0\n",
    "    total_num_points = 0\n",
    "    X,Y = generate_rand(size=2*samples).reshape(2,-1)\n",
    "\n",
    "    for x,y in zip(X,Y):\n",
    "        distance = x**2 + y**2\n",
    "        if distance <= 1:\n",
    "            points_inside_circle +=1\n",
    "        total_num_points += 1\n",
    "    return 4* points_inside_circle/total_num_points"
   ]
  },
  {
   "cell_type": "code",
   "execution_count": 22,
   "id": "a381d09b",
   "metadata": {},
   "outputs": [],
   "source": []
  },
  {
   "cell_type": "code",
   "execution_count": null,
   "id": "d7f1b386",
   "metadata": {},
   "outputs": [],
   "source": []
  }
 ],
 "metadata": {
  "kernelspec": {
   "display_name": "Python 3",
   "language": "python",
   "name": "python3"
  },
  "language_info": {
   "codemirror_mode": {
    "name": "ipython",
    "version": 3
   },
   "file_extension": ".py",
   "mimetype": "text/x-python",
   "name": "python",
   "nbconvert_exporter": "python",
   "pygments_lexer": "ipython3",
   "version": "3.8.8"
  }
 },
 "nbformat": 4,
 "nbformat_minor": 5
}
